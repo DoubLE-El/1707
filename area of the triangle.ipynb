{
 "cells": [
  {
   "cell_type": "code",
   "execution_count": null,
   "id": "3a8afe8c",
   "metadata": {},
   "outputs": [],
   "source": [
    "# fiture out the area of the triangle\n",
    "\n",
    "import random\n",
    "\n",
    "base = random.randint(1, 10)\n",
    "height = random.randint(1, 10)\n",
    "\n",
    "print(\"The base is\", base)\n",
    "print(\"The height is\", height)\n",
    "\n",
    "quiz = input(\"Figure out the area of the triangle. \")\n",
    "\n",
    "def triangle_area(base, height):\n",
    "    area = base * height / 2\n",
    "    return area\n",
    "\n",
    "area = triangle_area(base, height)\n",
    "\n",
    "if area == float(quiz):\n",
    "    print(\"correct\")\n",
    "else:\n",
    "    print(\"incorrect\", \"\\nThe answer is\", area)"
   ]
  }
 ],
 "metadata": {
  "kernelspec": {
   "display_name": "Python 3 (ipykernel)",
   "language": "python",
   "name": "python3"
  },
  "language_info": {
   "codemirror_mode": {
    "name": "ipython",
    "version": 3
   },
   "file_extension": ".py",
   "mimetype": "text/x-python",
   "name": "python",
   "nbconvert_exporter": "python",
   "pygments_lexer": "ipython3",
   "version": "3.9.7"
  }
 },
 "nbformat": 4,
 "nbformat_minor": 5
}
