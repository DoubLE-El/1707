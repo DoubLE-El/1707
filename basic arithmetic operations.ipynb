{
 "cells": [
  {
   "cell_type": "code",
   "execution_count": null,
   "id": "687d9a1d",
   "metadata": {},
   "outputs": [],
   "source": [
    "# addition\n",
    "\n",
    "import random\n",
    "\n",
    "a = random.randint(1, 30)\n",
    "b = random.randint(1, 30)\n",
    "\n",
    "print(a, \"+\", b, \" = \")\n",
    "x = input()\n",
    "answer = int(x)\n",
    "\n",
    "if a + b == answer:\n",
    "    print(\"correct\")\n",
    "else:\n",
    "    print(\"incorrect\")"
   ]
  },
  {
   "cell_type": "code",
   "execution_count": null,
   "id": "e8172159",
   "metadata": {},
   "outputs": [],
   "source": [
    "# subtraction\n",
    "\n",
    "import random\n",
    "\n",
    "a = random.randint(1, 30)\n",
    "b = random.randint(1, 30)\n",
    "\n",
    "print(a, \"-\", b, \" = \")\n",
    "x = input()\n",
    "answer = int(x)\n",
    "\n",
    "if a - b == answer:\n",
    "    print(\"correct\")\n",
    "else:\n",
    "    print(\"incorrect\")"
   ]
  },
  {
   "cell_type": "code",
   "execution_count": null,
   "id": "5b391e0a",
   "metadata": {},
   "outputs": [],
   "source": [
    "# multiplication\n",
    "\n",
    "import random\n",
    "\n",
    "a = random.randint(1, 30)\n",
    "b = random.randint(1, 30)\n",
    "\n",
    "print(a, \"*\", b, \" = \")\n",
    "x = input()\n",
    "answer = int(x)\n",
    "\n",
    "if a * b == answer:\n",
    "    print(\"correct\")\n",
    "else:\n",
    "    print(\"incorrect\")"
   ]
  },
  {
   "cell_type": "code",
   "execution_count": null,
   "id": "f0ee6aee",
   "metadata": {},
   "outputs": [],
   "source": [
    "# division\n",
    "\n",
    "import random\n",
    "\n",
    "a = random.randint(1, 30)\n",
    "b = random.randint(1, 30)\n",
    "\n",
    "print(a, \"/\", b, \" = \")\n",
    "x = input()\n",
    "answer = round(float(x), 2)\n",
    "print(\"The answer is \", answer)\n",
    "print(\"The actual answer is \", a/b)\n",
    "\n",
    "if round(a/b, 2) == answer:\n",
    "    print(\"correct\")\n",
    "else:\n",
    "    print(\"incorrect\")"
   ]
  }
 ],
 "metadata": {
  "kernelspec": {
   "display_name": "Python 3 (ipykernel)",
   "language": "python",
   "name": "python3"
  },
  "language_info": {
   "codemirror_mode": {
    "name": "ipython",
    "version": 3
   },
   "file_extension": ".py",
   "mimetype": "text/x-python",
   "name": "python",
   "nbconvert_exporter": "python",
   "pygments_lexer": "ipython3",
   "version": "3.9.7"
  }
 },
 "nbformat": 4,
 "nbformat_minor": 5
}
