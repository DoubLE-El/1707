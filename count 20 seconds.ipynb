{
 "cells": [
  {
   "cell_type": "code",
   "execution_count": null,
   "id": "ac09f0b8",
   "metadata": {},
   "outputs": [],
   "source": [
    "# counting 20 seconds\n",
    "\n",
    "import time\n",
    "\n",
    "print(\"When you are ready, press enter.\")\n",
    "input()\n",
    "\n",
    "start = time.time()\n",
    "\n",
    "print(\"After 20 seconds, press enter\")\n",
    "input()\n",
    "        \n",
    "end = time.time()\n",
    "\n",
    "diff = end - start\n",
    "diff = abs(int(diff) - 20)\n",
    "\n",
    "if diff <= 1:\n",
    "    print(\"Excellent\")\n",
    "if diff <= 3:\n",
    "    print(\"Great\")\n",
    "if diff <= 7:\n",
    "    print(\"Not bad\")\n",
    "if diff <= 10:\n",
    "    print(\"You can do better than that\")\n",
    "else:\n",
    "    print(\"Well...\")\n",
    "\n",
    "print(\"\\nDifference:\", diff, \"seconds\")"
   ]
  }
 ],
 "metadata": {
  "kernelspec": {
   "display_name": "Python 3 (ipykernel)",
   "language": "python",
   "name": "python3"
  },
  "language_info": {
   "codemirror_mode": {
    "name": "ipython",
    "version": 3
   },
   "file_extension": ".py",
   "mimetype": "text/x-python",
   "name": "python",
   "nbconvert_exporter": "python",
   "pygments_lexer": "ipython3",
   "version": "3.9.7"
  }
 },
 "nbformat": 4,
 "nbformat_minor": 5
}
