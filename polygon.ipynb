{
 "cells": [
  {
   "cell_type": "code",
   "execution_count": null,
   "id": "77ebe542",
   "metadata": {},
   "outputs": [],
   "source": [
    "# polygon\n",
    "\n",
    "import turtle as t\n",
    "import random\n",
    "\n",
    "n = random.randint(3,10)\n",
    "\n",
    "def polygon(n):\n",
    "    for x in range(n):\n",
    "        t.forward(30)\n",
    "        t.left(360/n)\n",
    "        \n",
    "        \n",
    "answer = polygon(n)\n",
    "answer\n",
    "        \n",
    "print(\"How many sides does it have? \")\n",
    "\n",
    "quiz = input()\n",
    "\n",
    "if n == int(quiz):\n",
    "    print(\"correct\")\n",
    "else:\n",
    "    print(\"incorrect\", \"\\nTry again!\")"
   ]
  },
  {
   "cell_type": "code",
   "execution_count": null,
   "id": "e2fae51f",
   "metadata": {},
   "outputs": [],
   "source": []
  }
 ],
 "metadata": {
  "kernelspec": {
   "display_name": "Python 3 (ipykernel)",
   "language": "python",
   "name": "python3"
  },
  "language_info": {
   "codemirror_mode": {
    "name": "ipython",
    "version": 3
   },
   "file_extension": ".py",
   "mimetype": "text/x-python",
   "name": "python",
   "nbconvert_exporter": "python",
   "pygments_lexer": "ipython3",
   "version": "3.9.7"
  }
 },
 "nbformat": 4,
 "nbformat_minor": 5
}
