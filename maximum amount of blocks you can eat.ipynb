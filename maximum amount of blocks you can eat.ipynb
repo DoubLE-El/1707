{
 "cells": [
  {
   "cell_type": "code",
   "execution_count": null,
   "id": "5dda2734",
   "metadata": {},
   "outputs": [],
   "source": [
    "# You can eat a block at a time but you can't eat one after another.\n",
    "# What is the maximum amount of blocks?\n",
    "\n",
    "print(\"How may blocks do you have?\")\n",
    "n = int(input())\n",
    "\n",
    "print(\"Let me know your blocks\")\n",
    "array = list(map(int, input().split()))\n",
    "\n",
    "print(\"What is the maximum amount you can it?\")\n",
    "\n",
    "# Dynamic Programing table initialization\n",
    "d = [0]*n\n",
    "\n",
    "d[0] = array[0]\n",
    "d[1] = max(array[0], array[1])\n",
    "\n",
    "for i in range(2, n):\n",
    "    d[i] = max(d[i - 1], d[i -2] + array [i])\n",
    "\n",
    "answer = int(input())\n",
    "\n",
    "if answer == d[n-1]:\n",
    "    print(\"correct\")\n",
    "else:\n",
    "    print(\"wrong\", \"\\nThe answer is\", d[n-1])"
   ]
  }
 ],
 "metadata": {
  "kernelspec": {
   "display_name": "Python 3 (ipykernel)",
   "language": "python",
   "name": "python3"
  },
  "language_info": {
   "codemirror_mode": {
    "name": "ipython",
    "version": 3
   },
   "file_extension": ".py",
   "mimetype": "text/x-python",
   "name": "python",
   "nbconvert_exporter": "python",
   "pygments_lexer": "ipython3",
   "version": "3.9.7"
  }
 },
 "nbformat": 4,
 "nbformat_minor": 5
}
