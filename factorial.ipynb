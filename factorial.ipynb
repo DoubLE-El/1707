{
 "cells": [
  {
   "cell_type": "code",
   "execution_count": null,
   "id": "da861699",
   "metadata": {},
   "outputs": [],
   "source": [
    "# calculate a factorial\n",
    "\n",
    "import random\n",
    "\n",
    "n = random.randint(1, 7)\n",
    "\n",
    "print(\"Calculate the factorial of\", n)\n",
    "\n",
    "quiz = input(\"Your answer is \")\n",
    "\n",
    "def factorial(n):\n",
    "    start = 1\n",
    "    for x in range(1, n+1):\n",
    "        start = start * x\n",
    "    return start\n",
    "\n",
    "answer = factorial(n)\n",
    "\n",
    "if answer == int(quiz):\n",
    "    print(\"correct\")\n",
    "else:\n",
    "    print(\"wrong\", \"\\nThe answer is\", answer)"
   ]
  },
  {
   "cell_type": "code",
   "execution_count": null,
   "id": "ce5ccdda",
   "metadata": {},
   "outputs": [],
   "source": []
  }
 ],
 "metadata": {
  "kernelspec": {
   "display_name": "Python 3 (ipykernel)",
   "language": "python",
   "name": "python3"
  },
  "language_info": {
   "codemirror_mode": {
    "name": "ipython",
    "version": 3
   },
   "file_extension": ".py",
   "mimetype": "text/x-python",
   "name": "python",
   "nbconvert_exporter": "python",
   "pygments_lexer": "ipython3",
   "version": "3.9.7"
  }
 },
 "nbformat": 4,
 "nbformat_minor": 5
}
