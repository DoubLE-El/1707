{
 "cells": [
  {
   "cell_type": "code",
   "execution_count": null,
   "id": "210973ea",
   "metadata": {},
   "outputs": [],
   "source": [
    "# from 1 to 100, add all up\n",
    "\n",
    "import random\n",
    "\n",
    "s = 0\n",
    "x = 1\n",
    "n = random.randint(1, 100)\n",
    "\n",
    "quiz = input(\"From 1 to {}, add all up. \".format(n))\n",
    "print(\"Your answer is \", quiz)\n",
    "\n",
    "while x <= n:\n",
    "    s = s + x\n",
    "    x = x + 1\n",
    "\n",
    "if s == int(quiz):\n",
    "    print(\"correct\")\n",
    "else: \n",
    "    print(\"incorrect\")\n",
    "    print(\"The answer is \", s)"
   ]
  }
 ],
 "metadata": {
  "kernelspec": {
   "display_name": "Python 3 (ipykernel)",
   "language": "python",
   "name": "python3"
  },
  "language_info": {
   "codemirror_mode": {
    "name": "ipython",
    "version": 3
   },
   "file_extension": ".py",
   "mimetype": "text/x-python",
   "name": "python",
   "nbconvert_exporter": "python",
   "pygments_lexer": "ipython3",
   "version": "3.9.7"
  }
 },
 "nbformat": 4,
 "nbformat_minor": 5
}
