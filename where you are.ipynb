{
 "cells": [
  {
   "cell_type": "code",
   "execution_count": null,
   "id": "43580ef2",
   "metadata": {},
   "outputs": [],
   "source": [
    "# Where are you now? Let me know your x and y-coordinate.\n",
    "\n",
    "print(\"How big is your square table? \")\n",
    "n = int(input())\n",
    "\n",
    "x, y = 1, 1\n",
    "\n",
    "print(\"Set a direction like Right Left Up Down.\")\n",
    "plans = input().split()\n",
    "print(plans)\n",
    "\n",
    "dx = [0, 0, -1, 1]\n",
    "dy = [-1, 1, 0, 0]\n",
    "move_types = ['Left', 'Right', 'Up', 'Down']\n",
    "\n",
    "print(\"Where are you now? \")\n",
    "x_coordinate, y_coordinate = map(int, input().split())\n",
    "\n",
    "for plan in plans:\n",
    "    for i in range(len(move_types)):\n",
    "        if plan == move_types[i]:\n",
    "            nx = x + dx[i]\n",
    "            ny = y + dy[i]\n",
    "        \n",
    "    if nx < 1 or ny < 1 or nx > n or ny > n:\n",
    "            continue\n",
    "        \n",
    "    x, y = nx, ny\n",
    "        \n",
    "if x == int(x_coordinate) and y == int(y_coordinate):\n",
    "    print(\"correct\")\n",
    "else: \n",
    "    print(\"No, you are not there.\")"
   ]
  }
 ],
 "metadata": {
  "kernelspec": {
   "display_name": "Python 3 (ipykernel)",
   "language": "python",
   "name": "python3"
  },
  "language_info": {
   "codemirror_mode": {
    "name": "ipython",
    "version": 3
   },
   "file_extension": ".py",
   "mimetype": "text/x-python",
   "name": "python",
   "nbconvert_exporter": "python",
   "pygments_lexer": "ipython3",
   "version": "3.9.7"
  }
 },
 "nbformat": 4,
 "nbformat_minor": 5
}
