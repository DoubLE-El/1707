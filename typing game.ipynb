{
 "cells": [
  {
   "cell_type": "code",
   "execution_count": 12,
   "id": "003b378c",
   "metadata": {},
   "outputs": [
    {
     "name": "stdout",
     "output_type": "stream",
     "text": [
      "When you are ready, press enter.\n",
      "\n",
      "question* 1\n",
      "horse\n",
      "horse\n",
      "pass\n",
      "question* 2\n",
      "dog\n",
      "dog\n",
      "pass\n",
      "question* 3\n",
      "chicken\n",
      "chicken\n",
      "pass\n",
      "Typing time: 8.04 seconds\n"
     ]
    }
   ],
   "source": [
    "import random\n",
    "import time\n",
    "\n",
    "words = [\"rat\", \"cow\", \"tiger\", \"rabbit\", \"dragon\", \"snake\", \n",
    "         \"horse\", \"sheep\", \"monkey\", \"chicken\", \"dog\", \"pig\"]\n",
    "\n",
    "print(\"When you are ready, press enter.\")\n",
    "input()\n",
    "\n",
    "start = time.time()\n",
    "\n",
    "random_words = random.choice(words)\n",
    "\n",
    "n = 1\n",
    "while n <= 3:\n",
    "    print(\"question*\", n)\n",
    "    print(random_words)\n",
    "    x = input()\n",
    "    if random_words == x:\n",
    "        print(\"pass\")\n",
    "        n = n + 1\n",
    "        random_words = random.choice(words)\n",
    "    else:\n",
    "        print(\"fail. Try again\")\n",
    "        \n",
    "end = time.time()\n",
    "diff = end - start\n",
    "diff = format(diff, \".2f\")\n",
    "print(\"Typing time:\", diff, \"seconds\")"
   ]
  },
  {
   "cell_type": "code",
   "execution_count": null,
   "id": "7f64ae7c",
   "metadata": {},
   "outputs": [],
   "source": []
  },
  {
   "cell_type": "code",
   "execution_count": null,
   "id": "870a38b7",
   "metadata": {},
   "outputs": [],
   "source": []
  }
 ],
 "metadata": {
  "kernelspec": {
   "display_name": "Python 3 (ipykernel)",
   "language": "python",
   "name": "python3"
  },
  "language_info": {
   "codemirror_mode": {
    "name": "ipython",
    "version": 3
   },
   "file_extension": ".py",
   "mimetype": "text/x-python",
   "name": "python",
   "nbconvert_exporter": "python",
   "pygments_lexer": "ipython3",
   "version": "3.9.7"
  }
 },
 "nbformat": 4,
 "nbformat_minor": 5
}
