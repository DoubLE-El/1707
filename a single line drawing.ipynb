{
 "cells": [
  {
   "cell_type": "code",
   "execution_count": 6,
   "id": "2d93c22f",
   "metadata": {},
   "outputs": [],
   "source": [
    "# a single line drawing\n",
    "\n",
    "import turtle as t\n",
    "\n",
    "def turn_right():\n",
    "    t.setheading(0)\n",
    "    t.forward(10)\n",
    "    \n",
    "def turn_up():\n",
    "    t.setheading(90)\n",
    "    t.forward(10)\n",
    "    \n",
    "def turn_left():\n",
    "    t.setheading(180)\n",
    "    t.forward(10)\n",
    "    \n",
    "def turn_down():\n",
    "    t.setheading(270)\n",
    "    t.forward(10)\n",
    "    \n",
    "def blank():\n",
    "    t.clear()\n",
    "    \n",
    "t.shape(\"arrow\")\n",
    "t.speed(0)\n",
    "t.onkeypress(turn_right, \"Right\")\n",
    "t.onkeypress(turn_up, \"Up\")\n",
    "t.onkeypress(turn_left, \"Left\")\n",
    "t.onkeypress(turn_down, \"Down\")\n",
    "t.onkeypress(blank, \"Escape\")\n",
    "t.listen()\n",
    "t.mainloop()"
   ]
  }
 ],
 "metadata": {
  "kernelspec": {
   "display_name": "Python 3 (ipykernel)",
   "language": "python",
   "name": "python3"
  },
  "language_info": {
   "codemirror_mode": {
    "name": "ipython",
    "version": 3
   },
   "file_extension": ".py",
   "mimetype": "text/x-python",
   "name": "python",
   "nbconvert_exporter": "python",
   "pygments_lexer": "ipython3",
   "version": "3.9.7"
  }
 },
 "nbformat": 4,
 "nbformat_minor": 5
}
