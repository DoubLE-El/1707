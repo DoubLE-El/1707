{
 "cells": [
  {
   "cell_type": "code",
   "execution_count": 1,
   "id": "97c35c48",
   "metadata": {},
   "outputs": [
    {
     "name": "stdout",
     "output_type": "stream",
     "text": [
      "[261, 102, 556, 887, 18, 703, 168, 994, 327, 809]\n",
      "What is the second largest number?\n",
      "887\n",
      "correct\n"
     ]
    }
   ],
   "source": [
    "# What is the second largest number?\n",
    "\n",
    "import random\n",
    "\n",
    "data = list(range(1,999))\n",
    "sample_data = random.sample(data, 10)\n",
    "print(sample_data)\n",
    "print(\"What is the second largest number?\")\n",
    "\n",
    "x = input()\n",
    "\n",
    "sample_data.sort()\n",
    "\n",
    "first = sample_data[len(sample_data) -1]\n",
    "second = sample_data[len(sample_data) -2]\n",
    "\n",
    "if second == int(x):\n",
    "    print(\"correct\")\n",
    "    \n",
    "else:\n",
    "    print(\"wrong\")\n"
   ]
  },
  {
   "cell_type": "code",
   "execution_count": null,
   "id": "0025db14",
   "metadata": {},
   "outputs": [],
   "source": []
  }
 ],
 "metadata": {
  "kernelspec": {
   "display_name": "Python 3 (ipykernel)",
   "language": "python",
   "name": "python3"
  },
  "language_info": {
   "codemirror_mode": {
    "name": "ipython",
    "version": 3
   },
   "file_extension": ".py",
   "mimetype": "text/x-python",
   "name": "python",
   "nbconvert_exporter": "python",
   "pygments_lexer": "ipython3",
   "version": "3.9.7"
  }
 },
 "nbformat": 4,
 "nbformat_minor": 5
}
