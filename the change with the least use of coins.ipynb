{
 "cells": [
  {
   "cell_type": "code",
   "execution_count": 7,
   "id": "7310e3d6",
   "metadata": {},
   "outputs": [
    {
     "name": "stdout",
     "output_type": "stream",
     "text": [
      "Give the change 360 korean won\n",
      "Use coins as small as possible\n",
      "How many coins do you need?\n",
      "5\n",
      "correct\n",
      "The answer is  5 .\n"
     ]
    }
   ],
   "source": [
    "# give the change with the least use of coins\n",
    "\n",
    "import random\n",
    "\n",
    "n = random.randint(1, 200) * 10\n",
    "print(\"Give the change {} korean won\".format(n))\n",
    "print(\"Use coins as small as possible\")\n",
    "print(\"How many coins do you need?\")\n",
    "\n",
    "x = input()\n",
    "\n",
    "count = 0\n",
    "\n",
    "coin_types = [500, 100, 50, 10]\n",
    "\n",
    "for coin in coin_types:\n",
    "    count += n // coin # (a += b) == (a = a+b)\n",
    "    n %= coin # (a //=b) == (a = a//b)\n",
    "\n",
    "if count == int(x):\n",
    "    print(\"correct\")\n",
    "else:\n",
    "    print(\"pass\")\n",
    "    \n",
    "print(\"The answer is \", count, \".\")"
   ]
  }
 ],
 "metadata": {
  "kernelspec": {
   "display_name": "Python 3 (ipykernel)",
   "language": "python",
   "name": "python3"
  },
  "language_info": {
   "codemirror_mode": {
    "name": "ipython",
    "version": 3
   },
   "file_extension": ".py",
   "mimetype": "text/x-python",
   "name": "python",
   "nbconvert_exporter": "python",
   "pygments_lexer": "ipython3",
   "version": "3.9.7"
  }
 },
 "nbformat": 4,
 "nbformat_minor": 5
}
