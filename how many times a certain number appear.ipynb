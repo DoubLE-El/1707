{
 "cells": [
  {
   "cell_type": "code",
   "execution_count": null,
   "id": "6680ee27",
   "metadata": {},
   "outputs": [],
   "source": [
    "# From midnight to N hour 59 min 59 sec, \n",
    "# how many times does a certain number appear?\n",
    "\n",
    "print(\"Input N hour's N\")\n",
    "hour = input()\n",
    "\n",
    "count = 0\n",
    "\n",
    "for i in range(int(hour) + 1):\n",
    "    for j in range(60):\n",
    "        for k in range(60):\n",
    "            if hour in str(i) + str(j) + str(k):\n",
    "                count += 1\n",
    "print(\"Until {} hour 59 min 59 sec, {} appears {} times.\".format(hour, hour, count))"
   ]
  }
 ],
 "metadata": {
  "kernelspec": {
   "display_name": "Python 3 (ipykernel)",
   "language": "python",
   "name": "python3"
  },
  "language_info": {
   "codemirror_mode": {
    "name": "ipython",
    "version": 3
   },
   "file_extension": ".py",
   "mimetype": "text/x-python",
   "name": "python",
   "nbconvert_exporter": "python",
   "pygments_lexer": "ipython3",
   "version": "3.9.7"
  }
 },
 "nbformat": 4,
 "nbformat_minor": 5
}
