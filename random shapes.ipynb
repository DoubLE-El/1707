{
 "cells": [
  {
   "cell_type": "code",
   "execution_count": null,
   "id": "84c8bb9a",
   "metadata": {},
   "outputs": [],
   "source": [
    "# random shapes\n",
    "\n",
    "import turtle as t\n",
    "import random\n",
    "\n",
    "t.bgcolor(\"black\")\n",
    "t.speed(0)\n",
    "\n",
    "a = random.uniform(1, 2)\n",
    "b = random.randint(30, 360)\n",
    "\n",
    "print(\"a: \", a, \"\\nb: \", b)\n",
    "\n",
    "for x in range(200):\n",
    "    if x % 3 == 0:\n",
    "        t.color(\"red\")\n",
    "    if x % 3 == 1:\n",
    "        t.color(\"yellow\")\n",
    "    if x % 3 ==2:\n",
    "        t.color(\"blue\")\n",
    "    t.forward(x*a)\n",
    "    t.right(b)"
   ]
  }
 ],
 "metadata": {
  "kernelspec": {
   "display_name": "Python 3 (ipykernel)",
   "language": "python",
   "name": "python3"
  },
  "language_info": {
   "codemirror_mode": {
    "name": "ipython",
    "version": 3
   },
   "file_extension": ".py",
   "mimetype": "text/x-python",
   "name": "python",
   "nbconvert_exporter": "python",
   "pygments_lexer": "ipython3",
   "version": "3.9.7"
  }
 },
 "nbformat": 4,
 "nbformat_minor": 5
}
